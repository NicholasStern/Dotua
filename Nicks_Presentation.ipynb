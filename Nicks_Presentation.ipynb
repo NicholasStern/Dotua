{
 "cells": [
  {
   "cell_type": "code",
   "execution_count": 23,
   "metadata": {},
   "outputs": [
    {
     "data": {
      "text/plain": [
       "{'width': 1000, 'height': 600, 'scroll': True}"
      ]
     },
     "execution_count": 23,
     "metadata": {},
     "output_type": "execute_result"
    }
   ],
   "source": [
    "from notebook.services.config import ConfigManager\n",
    "cm = ConfigManager()\n",
    "cm.update('livereveal', {\n",
    "              'width': 1000,\n",
    "              'height': 600,\n",
    "              'scroll': True,\n",
    "})"
   ]
  },
  {
   "cell_type": "markdown",
   "metadata": {
    "slideshow": {
     "slide_type": "slide"
    }
   },
   "source": [
    "# Dotua \n",
    "## An Automatic Differentiation Python Package\n",
    "### Nick Stern, Summer Yuan, Zach Wehrwein, Vincent Viego\n"
   ]
  },
  {
   "cell_type": "markdown",
   "metadata": {
    "slideshow": {
     "slide_type": "slide"
    }
   },
   "source": [
    "## Structure of Presentation\n",
    "1. Relevance of automatic differentiation\n",
    "2. Forward mode high level/deep dive\n",
    "3. Reverse mode background/importance\n",
    "4. Reverse mode high level/deep dive\n",
    "5. Newton Raphson + Neural Network Demos\n"
   ]
  },
  {
   "cell_type": "markdown",
   "metadata": {
    "slideshow": {
     "slide_type": "slide"
    }
   },
   "source": [
    "## Automatic Differentiation - Why Does it Matter?"
   ]
  },
  {
   "cell_type": "markdown",
   "metadata": {
    "slideshow": {
     "slide_type": "fragment"
    }
   },
   "source": [
    "* ### What is automatic differentiation?\n",
    "  * A way to take derivatives quickly with machine precision"
   ]
  },
  {
   "cell_type": "markdown",
   "metadata": {
    "slideshow": {
     "slide_type": "slide"
    }
   },
   "source": [
    "* ### How does it work?\n",
    "  * Propagate derivatives of elementary functions as more complicated ones are built\n",
    "  <img src=\"images/autodiff_graph.png\" width=\"600\" align=\"center\">"
   ]
  },
  {
   "cell_type": "markdown",
   "metadata": {
    "slideshow": {
     "slide_type": "slide"
    }
   },
   "source": [
    "* ### Why do we care?\n",
    "  * Derivatives are everywhere!!\n",
    "  * Tons of numerical simulations involving diffeq’s, i.e. hydrodynamics simulations\n",
    "    * Nuclear Fusion, Oceanography, Modeling Gravity\n",
    "  * Applications in optimization\n",
    "    * Neural Networks\n",
    "    * Robotics"
   ]
  },
  {
   "cell_type": "markdown",
   "metadata": {
    "slideshow": {
     "slide_type": "slide"
    }
   },
   "source": [
    "### Lawrence Livermore National Lab Kinematic Impact Studies:\n",
    "<img src=\"images/spheral_image.png\" width=\"800\" align=\"center\">"
   ]
  },
  {
   "cell_type": "markdown",
   "metadata": {
    "slideshow": {
     "slide_type": "slide"
    }
   },
   "source": [
    "## Forward Mode at a Glance\n",
    "### Initializer class: AutoDiff  \n",
    "* Two object classes:\n",
    "  * Scalar:\n",
    "    * Stores value in ._val\n",
    "    * Stores jacobian in dictionary\n",
    "    * Allows for “f = x + y”\n",
    "  * Vector:\n",
    "    * Permits elementwise operations\n",
    "    * Stores value in ._val\n",
    "    * Stores jacobian in dictionary\n",
    "       * Jacobian refers to elements in vector\n",
    "       \n",
    "### Operator class: Operator\n",
    "* Exactly like numpy but for AutoDiff objects.\n"
   ]
  },
  {
   "cell_type": "markdown",
   "metadata": {
    "slideshow": {
     "slide_type": "slide"
    }
   },
   "source": [
    "### How to Use Forward Mode"
   ]
  },
  {
   "cell_type": "code",
   "execution_count": 2,
   "metadata": {
    "slideshow": {
     "slide_type": "fragment"
    }
   },
   "outputs": [],
   "source": [
    "from Dotua.autodiff import AutoDiff as ad\n",
    "from Dotua.operator import Operator as op"
   ]
  },
  {
   "cell_type": "code",
   "execution_count": null,
   "metadata": {
    "slideshow": {
     "slide_type": "fragment"
    }
   },
   "outputs": [],
   "source": [
    "x, y = ad.create_scalar([1,2])\n",
    "f = x - y\n",
    "f.eval()"
   ]
  },
  {
   "cell_type": "markdown",
   "metadata": {
    "slideshow": {
     "slide_type": "slide"
    }
   },
   "source": [
    "### How to Use Reverse Mode"
   ]
  },
  {
   "cell_type": "code",
   "execution_count": 14,
   "metadata": {
    "slideshow": {
     "slide_type": "fragment"
    }
   },
   "outputs": [],
   "source": [
    "from Dotua.rautodiff import rAutoDiff\n",
    "from Dotua.roperator import rOperator as rop"
   ]
  },
  {
   "cell_type": "code",
   "execution_count": 15,
   "metadata": {
    "slideshow": {
     "slide_type": "fragment"
    }
   },
   "outputs": [],
   "source": [
    "rad = rAutoDiff()\n",
    "w, z = rad.create_rscalar([2,3])"
   ]
  },
  {
   "cell_type": "code",
   "execution_count": null,
   "metadata": {
    "slideshow": {
     "slide_type": "fragment"
    }
   },
   "outputs": [],
   "source": [
    "f2 = 2*w - 4*z\n",
    "print(f2.eval())\n",
    "print(rad.partial(f2, w))"
   ]
  }
 ],
 "metadata": {
  "celltoolbar": "Slideshow",
  "kernelspec": {
   "display_name": "Python 3",
   "language": "python",
   "name": "python3"
  },
  "language_info": {
   "codemirror_mode": {
    "name": "ipython",
    "version": 3
   },
   "file_extension": ".py",
   "mimetype": "text/x-python",
   "name": "python",
   "nbconvert_exporter": "python",
   "pygments_lexer": "ipython3",
   "version": "3.6.5"
  }
 },
 "nbformat": 4,
 "nbformat_minor": 2
}
