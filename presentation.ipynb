{
 "cells": [
  {
   "cell_type": "code",
   "execution_count": 19,
   "metadata": {},
   "outputs": [
    {
     "data": {
      "text/plain": [
       "{'width': 1000, 'height': 600, 'scroll': True}"
      ]
     },
     "execution_count": 19,
     "metadata": {},
     "output_type": "execute_result"
    }
   ],
   "source": [
    "from notebook.services.config import ConfigManager\n",
    "cm = ConfigManager()\n",
    "cm.update('livereveal', {\n",
    "              'width': 1000,\n",
    "              'height': 600,\n",
    "              'scroll': True,\n",
    "})"
   ]
  },
  {
   "cell_type": "markdown",
   "metadata": {
    "slideshow": {
     "slide_type": "slide"
    }
   },
   "source": [
    "# Dotua \n",
    "## An Automatic Differentiation Python Package\n",
    "### Nick Stern, Summer Yuan, Zach Wehrwein, Vincent Viego"
   ]
  },
  {
   "cell_type": "markdown",
   "metadata": {
    "slideshow": {
     "slide_type": "slide"
    }
   },
   "source": [
    "## Structure of Presentation\n",
    "1. Relevance of automatic differentiation\n",
    "2. Forward mode high level/deep dive\n",
    "3. Reverse mode background/importance\n",
    "4. Reverse mode high level/deep dive\n",
    "5. Newton Raphson + Neural Network Demos"
   ]
  },
  {
   "cell_type": "markdown",
   "metadata": {
    "slideshow": {
     "slide_type": "slide"
    }
   },
   "source": [
    "## Automatic Differentiation - Why Does it Matter?"
   ]
  },
  {
   "cell_type": "markdown",
   "metadata": {
    "slideshow": {
     "slide_type": "fragment"
    }
   },
   "source": [
    "* ### What is automatic differentiation?\n",
    "  * A way to take derivatives quickly with machine precision"
   ]
  },
  {
   "cell_type": "markdown",
   "metadata": {
    "slideshow": {
     "slide_type": "slide"
    }
   },
   "source": [
    "* ### How does it work?\n",
    "  * Propagate derivatives of elementary functions as more complicated ones are built\n",
    "  <img src=\"images/autodiff_graph.png\" width=\"600\" align=\"center\">"
   ]
  },
  {
   "cell_type": "markdown",
   "metadata": {
    "slideshow": {
     "slide_type": "slide"
    }
   },
   "source": [
    "* ### Why do we care?\n",
    "  * Derivatives are everywhere!!\n",
    "  * Tons of numerical simulations involving diffeq’s, i.e. hydrodynamics simulations\n",
    "    * Nuclear Fusion, Oceanography, Modeling Gravity\n",
    "  * Applications in optimization\n",
    "    * Neural Networks\n",
    "    * Robotics"
   ]
  },
  {
   "cell_type": "markdown",
   "metadata": {
    "slideshow": {
     "slide_type": "slide"
    }
   },
   "source": [
    "### Lawrence Livermore National Lab Kinematic Impact Studies:\n",
    "<img src=\"images/spheral_image.png\" width=\"800\" align=\"center\">"
   ]
  },
  {
   "cell_type": "markdown",
   "metadata": {
    "slideshow": {
     "slide_type": "slide"
    }
   },
   "source": [
    "## Forward Mode at a Glance\n",
    "### Initializer class: AutoDiff  \n",
    "* Two object classes:\n",
    "  * Scalar:\n",
    "    * Stores value in ._val\n",
    "    * Stores jacobian in dictionary\n",
    "    * Allows for “f = x + y”\n",
    "  * Vector:\n",
    "    * Permits elementwise operations\n",
    "    * Stores value in ._val\n",
    "    * Stores jacobian in dictionary\n",
    "       * Jacobian refers to elements in vector\n",
    "       \n",
    "### Operator class: Operator\n",
    "* Exactly like numpy but for AutoDiff objects.\n"
   ]
  },
  {
   "cell_type": "markdown",
   "metadata": {
    "slideshow": {
     "slide_type": "slide"
    }
   },
   "source": [
    "### How to Use Forward Mode"
   ]
  },
  {
   "cell_type": "code",
   "execution_count": null,
   "metadata": {
    "slideshow": {
     "slide_type": "fragment"
    }
   },
   "outputs": [],
   "source": [
    "from Dotua.autodiff import AutoDiff as ad\n",
    "from Dotua.operator import Operator as op"
   ]
  },
  {
   "cell_type": "code",
   "execution_count": null,
   "metadata": {
    "slideshow": {
     "slide_type": "fragment"
    }
   },
   "outputs": [],
   "source": [
    "x, y = ad.create_scalar([1,2])\n",
    "f = x - y\n",
    "f.eval()"
   ]
  },
  {
   "cell_type": "markdown",
   "metadata": {
    "slideshow": {
     "slide_type": "slide"
    }
   },
   "source": [
    "## Forward Mode deep dive\n",
    "\n",
    "### What if users add more variables after some functions are defined?"
   ]
  },
  {
   "cell_type": "markdown",
   "metadata": {
    "slideshow": {
     "slide_type": "fragment"
    }
   },
   "source": [
    "* Imagine we construct a function f = x + y from variables x and y"
   ]
  },
  {
   "cell_type": "markdown",
   "metadata": {
    "slideshow": {
     "slide_type": "fragment"
    }
   },
   "source": [
    "* We use [1,0] for the initial derivative of x  and [0,1] for the initial derivative of y"
   ]
  },
  {
   "cell_type": "markdown",
   "metadata": {
    "slideshow": {
     "slide_type": "fragment"
    }
   },
   "source": [
    "* Everything is fine as long as user only defines functions of x and y"
   ]
  },
  {
   "cell_type": "markdown",
   "metadata": {
    "slideshow": {
     "slide_type": "fragment"
    }
   },
   "source": [
    "* Then the user defines two new variables a and b and builds a new function g = a + b"
   ]
  },
  {
   "cell_type": "markdown",
   "metadata": {
    "slideshow": {
     "slide_type": "fragment"
    }
   },
   "source": [
    "* We use [1,0] for the initial derivative of a  and [0,1] for the initial derivative of b"
   ]
  },
  {
   "cell_type": "markdown",
   "metadata": {
    "slideshow": {
     "slide_type": "fragment"
    }
   },
   "source": [
    "* Then the user defines a new function h = f + g"
   ]
  },
  {
   "cell_type": "markdown",
   "metadata": {
    "slideshow": {
     "slide_type": "fragment"
    }
   },
   "source": [
    "* And when the user calls partial for the gradient of function h with regarding to a, they get 2"
   ]
  },
  {
   "cell_type": "markdown",
   "metadata": {
    "slideshow": {
     "slide_type": "fragment"
    }
   },
   "source": [
    "* ### They adds up variables in different universes"
   ]
  },
  {
   "cell_type": "markdown",
   "metadata": {
    "slideshow": {
     "slide_type": "slide"
    }
   },
   "source": [
    "### Two undesirable solutions\n",
    "* Prevent the user from combining functions with separately initialized sets of variables\n",
    "* Put all the variables in a container datastructure and require the user to remember the order in which the variables were initialized"
   ]
  },
  {
   "cell_type": "markdown",
   "metadata": {
    "slideshow": {
     "slide_type": "fragment"
    }
   },
   "source": [
    "### Our solution\n",
    "* Use dictionaries to keep track of gradients of every variable included in the functions. Variable objects are used as keys of the dictionaries"
   ]
  },
  {
   "cell_type": "markdown",
   "metadata": {
    "slideshow": {
     "slide_type": "slide"
    }
   },
   "source": [
    "## Forward Mode Demo: Newton-Raphson Root Approximation"
   ]
  },
  {
   "cell_type": "markdown",
   "metadata": {
    "slideshow": {
     "slide_type": "fragment"
    }
   },
   "source": [
    "### Some imports..."
   ]
  },
  {
   "cell_type": "code",
   "execution_count": null,
   "metadata": {
    "slideshow": {
     "slide_type": "fragment"
    }
   },
   "outputs": [],
   "source": [
    "import sys\n",
    "from Dotua.autodiff import AutoDiff as ad\n",
    "from Dotua.operator import Operator as op\n",
    "import numpy as np\n",
    "from scipy import optimize\n",
    "import matplotlib.pyplot as plt"
   ]
  },
  {
   "cell_type": "markdown",
   "metadata": {
    "slideshow": {
     "slide_type": "fragment"
    }
   },
   "source": [
    "### The Algorithm:"
   ]
  },
  {
   "cell_type": "code",
   "execution_count": 5,
   "metadata": {
    "slideshow": {
     "slide_type": "fragment"
    }
   },
   "outputs": [],
   "source": [
    "def NewtonsMethod(func, x0, tol=1e-15, maxiters=1000):\n",
    "    '''\n",
    "    Computes the roots of func through iterative guesses until change is below tolerance.\n",
    "\n",
    "    Takes in a function (func), a point at which to estimate (x0),\n",
    "        an error tolerance (tol), and a maximum number of iterations (maxiters).\n",
    "\n",
    "    func must be composed of 'AutoDiff.Operator' operations and AutoDiff.Scalar structures.\n",
    "\n",
    "    Example usage:\n",
    "    '''\n",
    "\n",
    "    xn = x0\n",
    "    steps = []\n",
    "\n",
    "    for i in range(maxiters):\n",
    "\n",
    "        # Calculate y at this step.\n",
    "        y = func(xn)._val\n",
    "\n",
    "        # Calculate derivative at this step\n",
    "        dy_dx = list(func(xn)._jacobian.values())[0]\n",
    "\n",
    "        # If y reaches tolerance, stop\n",
    "        if abs(y) < tol:\n",
    "            return xn._val, steps\n",
    "            break\n",
    "\n",
    "        else:\n",
    "            steps.append((xn._val, y))\n",
    "            # Compute Newton Step\n",
    "            x_next = y / dy_dx\n",
    "\n",
    "            # Update X\n",
    "            xn = xn - x_next\n",
    "\n",
    "\n",
    "    return xn._val, steps"
   ]
  },
  {
   "cell_type": "markdown",
   "metadata": {
    "slideshow": {
     "slide_type": "fragment"
    }
   },
   "source": [
    "### Comparison"
   ]
  },
  {
   "cell_type": "code",
   "execution_count": 22,
   "metadata": {
    "slideshow": {
     "slide_type": "fragment"
    }
   },
   "outputs": [
    {
     "name": "stdout",
     "output_type": "stream",
     "text": [
      "Root Found Using Dotua:  2.9802322387695312e-08\n",
      "Root Found Using Standard Library:  1.5813234334835293e-08\n"
     ]
    }
   ],
   "source": [
    "ans, steps = NewtonsMethod(lambda x: x*x, ad.create_scalar(1))\n",
    "print('Root Found Using Dotua: ', ans)\n",
    "print('Root Found Using Standard Library: ', optimize.newton(lambda x: x**2, 1))"
   ]
  },
  {
   "cell_type": "markdown",
   "metadata": {
    "slideshow": {
     "slide_type": "slide"
    }
   },
   "source": [
    "### Let's Visualize It!"
   ]
  },
  {
   "cell_type": "code",
   "execution_count": 9,
   "metadata": {
    "slideshow": {
     "slide_type": "slide"
    }
   },
   "outputs": [
    {
     "data": {
      "image/png": "[encoded data removed]",
      "text/plain": [
       "<Figure size 720x432 with 1 Axes>"
      ]
     },
     "metadata": {},
     "output_type": "display_data"
    }
   ],
   "source": [
    "xvals = np.linspace(-1,1,100)\n",
    "\n",
    "fig, ax = plt.subplots(figsize=(10,6))\n",
    "ax.scatter([x[0] for x in steps], [x[1] for x in steps], c='r')\n",
    "ax.plot(xvals, xvals**2)\n",
    "for step in steps:\n",
    "    ax.plot([step[0]]*100, np.linspace(-.1, step[1],100), 'r--')\n",
    "    ax.set_xlabel('X', fontsize=15)\n",
    "    ax.set_ylabel('Y', fontsize=15)\n",
    "    ax.set_title('Newton Raphson Demo w/ Autodiff', fontsize=20)\n",
    "    \n",
    "ax.set_xlabel('X', fontsize=15)\n",
    "ax.set_ylabel('Y', fontsize=15)\n",
    "ax.set_title('Newton Raphson Demo w/ Autodiff', fontsize=20)\n",
    "\n",
    "plt.savefig('newton.png')\n",
    "plt.show()"
   ]
  },
  {
   "cell_type": "markdown",
   "metadata": {
    "slideshow": {
     "slide_type": "slide"
    }
   },
   "source": [
    "# Reverse Mode Motivation\n",
    "\n",
    "- Forward mode allows efficient computation of the partial derivatives of multiple functions.\n",
    "- Reverse mode allows efficient computation of the gradient of a single function.\n",
    "- In NN: we wish to calculate the slope of each weight w/r/t a loss function.\n",
    "- AD a necessary aspect of contemporary ML because it allows for us to make this calculation.\n",
    "\n",
    "For a given input $u$, output $w_1$, and a yet-to-be calculated variable $s$:\n",
    "\n",
    "Forward mode chain rule:\n",
    "\n",
    "$$\\frac{\\partial w}{\\partial t} = \\frac{\\partial w}{\\partial u_1} * \\frac{\\partial u_1}{\\partial t} + \\frac{\\partial w}{\\partial u_2} * \\frac{\\partial u_2}{\\partial t} + ...  $$\n",
    "\n",
    "Backward chain rule (inversion of composite functions by flipping numerator and denominator):\n",
    "\n",
    "$$\\frac{\\partial s}{\\partial u} = \\frac{\\partial w_1}{\\partial u} * \\frac{\\partial s}{\\partial w_1} + \\frac{\\partial w_2}{\\partial u} * \\frac{\\partial s}{\\partial w_2} + ... $$\n",
    "\n",
    "\n",
    "- Graph theory intuition most useful."
   ]
  },
  {
   "cell_type": "code",
   "execution_count": 12,
   "metadata": {
    "slideshow": {
     "slide_type": "slide"
    }
   },
   "outputs": [
    {
     "data": {
      "image/png": "[encoded data removed]",
      "text/plain": [
       "<Figure size 576x432 with 1 Axes>"
      ]
     },
     "metadata": {},
     "output_type": "display_data"
    }
   ],
   "source": [
    "import matplotlib.pyplot as plt\n",
    "from mpl_toolkits.mplot3d import Axes3D\n",
    "from sklearn import datasets\n",
    "from sklearn.decomposition import PCA\n",
    "\n",
    "iris = datasets.load_iris()\n",
    "X = iris.data \n",
    "y = iris.target\n",
    "\n",
    "x_min, x_max = X[:, 0].min() - .5, X[:, 0].max() + .5\n",
    "y_min, y_max = X[:, 1].min() - .5, X[:, 1].max() + .5\n",
    "\n",
    "plt.figure(2, figsize=(8, 6))\n",
    "plt.clf()\n",
    "\n",
    "plt.scatter(X[:, 0], X[:, 1], c=y, cmap=plt.cm.Set1,\n",
    "            edgecolor='k')\n",
    "plt.xlabel('Sepal length')\n",
    "plt.ylabel('Sepal width')\n",
    "\n",
    "plt.xlim(x_min, x_max)\n",
    "plt.ylim(y_min, y_max)\n",
    "plt.xticks(())\n",
    "plt.yticks(())\n",
    "\n",
    "plt.show()"
   ]
  },
  {
   "cell_type": "code",
   "execution_count": 13,
   "metadata": {
    "slideshow": {
     "slide_type": "slide"
    }
   },
   "outputs": [],
   "source": [
    "from Dotua.rautodiff import rAutoDiff as rad\n",
    "from Dotua.roperator import rOperator as op\n",
    "import random\n",
    "\n",
    "rad = rad()\n",
    "\n",
    "class NeuralNetwork():\n",
    "    def __init__(self, input_vals, input_bias, hidden_bias, num_hidden, output, learning_rate = 0.1):\n",
    "        self.input_vals = input_vals\n",
    "        self.input_bias = input_bias\n",
    "        self.hidden_bias = hidden_bias\n",
    "        self.num_hidden = num_hidden\n",
    "        self.output = output\n",
    "        self.learning_rate = learning_rate\n",
    "\n",
    "        self.weights_tohidden = [None] * num_hidden\n",
    "        for i in range(num_hidden):\n",
    "            self.weights_tohidden[i] = []\n",
    "            for j in range(len(input_vals)):\n",
    "                \n",
    "                #DOTUA USED HERE: to initalize the weights from the input to hidden layer.\n",
    "                w = rad.create_rscalar(random.random())\n",
    "                self.weights_tohidden[i].append(w)\n",
    "                self.weights_tooutput = [None] * len(output)\n",
    "        \n",
    "        for i in range(len(output)):\n",
    "            self.weights_tooutput[i] = []\n",
    "            \n",
    "            #DOTUA USED HERE: to initialize weights from hidden to output.\n",
    "            w = rad.create_rscalar(random.random())\n",
    "            for j in range(num_hidden):\n",
    "                self.weights_tooutput[i].append(w)\n",
    "\n",
    "    def train(self, input_vals, output_vals):\n",
    "        self.input_vals = input_vals\n",
    "        self.output = output_vals\n",
    "\n",
    "        #calculation of hidden layer.\n",
    "        self.hidden_layer = []\n",
    "        for i in range(self.num_hidden):\n",
    "            h = 0\n",
    "            for j in range(len(self.weights_tohidden[i])):\n",
    "                h = h + self.weights_tohidden[i][j] * self.input_vals[j]\n",
    "            h = h + self.input_bias\n",
    "            self.hidden_layer.append(1/(1+op.exp(-h)))\n",
    "\n",
    "        # To calculate the output layer neurons and error\n",
    "        error = 0\n",
    "        for i in range(len(self.output)):\n",
    "            o = 0\n",
    "            for j in range(len(self.weights_tooutput[i])):\n",
    "                o = o + self.weights_tooutput[i][j] * self.hidden_layer[j]\n",
    "            o = o + self.hidden_bias\n",
    "            o = 1/(1+op.exp(-o))\n",
    "            error = error + (o - self.output[i]) ** 2\n",
    "\n",
    "        # To update weights from hidden layer to output layer\n",
    "        for i in range(len(self.weights_tooutput)):\n",
    "            for j in range(len(self.weights_tooutput[i])):\n",
    "                \n",
    "                #DOTUA USED HERE:\n",
    "                d = rad.partial(error, self.weights_tooutput[i][j])\n",
    "                self.weights_tooutput[i][j] = self.weights_tooutput[i][j] - d * self.learning_rate\n",
    "\n",
    "        # To update weights from input layer to hidden layer\n",
    "        for i in range(len(self.weights_tohidden)):\n",
    "            for j in range(len(self.weights_tooutput[i])):\n",
    "                \n",
    "                #DOTUA USED HERE:\n",
    "                d = rad.partial(error, self.weights_tohidden[i][j])\n",
    "                self.weights_tohidden[i][j] = self.weights_tohidden[i][j] - d * self.learning_rate\n",
    "\n",
    "    def predict(self, input_vals, output_vals):\n",
    "        self.input_vals = input_vals\n",
    "        self.output = output_vals\n",
    "\n",
    "        # To calculate the hidden layer neurons using the current model\n",
    "        self.hidden_layer = []\n",
    "        for i in range(self.num_hidden):\n",
    "            h = 0\n",
    "            for j in range(len(self.weights_tohidden[i])):\n",
    "                h = h + self.weights_tohidden[i][j] * self.input_vals[j]\n",
    "            h = h + self.input_bias\n",
    "            self.hidden_layer.append(1/(1+op.exp(-h)))\n",
    "\n",
    "        # To calculate the output layer neurons using the current model and calculate the error \n",
    "        error = 0\n",
    "        output_layer = []\n",
    "        for i in range(len(self.output)):\n",
    "            o = 0\n",
    "            for j in range(len(self.weights_tooutput[i])):\n",
    "                o = o + self.weights_tooutput[i][j] * self.hidden_layer[j]\n",
    "            o = o + self.hidden_bias\n",
    "            o = 1/(1+op.exp(-o))\n",
    "            output_layer.append(o.val)\n",
    "            error = error + (o - self.output[i]) ** 2\n",
    "        error = error / len(self.output)\n",
    "        return (output_layer, error.val)"
   ]
  },
  {
   "cell_type": "code",
   "execution_count": 14,
   "metadata": {},
   "outputs": [],
   "source": [
    "from sklearn.model_selection import train_test_split\n",
    "import numpy as np\n",
    "\n",
    "X_train, X_test, y_train, y_test = train_test_split(X, y, test_size=0, random_state=64)\n",
    "\n",
    "def get_y(i):\n",
    "    train_y = [0,0,0]\n",
    "    train_y[i] = 1\n",
    "    return train_y\n",
    "\n",
    "nn = NeuralNetwork([0,0,0],0.33,0.33,2,[0,0,0])\n",
    "\n",
    "for j in range(10):\n",
    "    for i in range(1, len(X_train)):\n",
    "        nn.train(X_train[i], get_y(y_train[i]))\n",
    "\n",
    "train_e = []\n",
    "true_y = []\n",
    "predicted_y = []\n",
    "for i in range(1, len(X_train)):\n",
    "    output,e = nn.predict(X_train[i], get_y(y_train[i]))\n",
    "    train_e.append(e)\n",
    "    if max(output) == output[0]:\n",
    "        predicted_y.append(0)\n",
    "    elif max(output) == output[1]:\n",
    "        predicted_y.append(1)\n",
    "    else:\n",
    "        predicted_y.append(2)\n",
    "    \n",
    "    true_y.append(y_train[i])"
   ]
  },
  {
   "cell_type": "code",
   "execution_count": 18,
   "metadata": {},
   "outputs": [
    {
     "data": {
      "image/png": "[encoded data removed]",
      "text/plain": [
       "<Figure size 864x864 with 2 Axes>"
      ]
     },
     "metadata": {},
     "output_type": "display_data"
    }
   ],
   "source": [
    "import pandas as pd\n",
    "import matplotlib.pyplot as plt\n",
    "import seaborn as sns\n",
    "from sklearn.metrics import confusion_matrix\n",
    "\n",
    "df_cm = pd.DataFrame(confusion_matrix(true_y,predicted_y),\n",
    "                     index=['setosa','versicolor','virginica'], columns=['setosa','versicolor','virginica'])\n",
    "plt.figure(figsize=(12,12))\n",
    "heatmap = sns.heatmap(df_cm, annot=True, fmt=\"d\")\n",
    "heatmap.yaxis.set_ticklabels(heatmap.yaxis.get_ticklabels(), rotation=0, fontsize=14)\n",
    "heatmap.xaxis.set_ticklabels(heatmap.xaxis.get_ticklabels(), rotation=45, fontsize=14)\n",
    "plt.ylabel('True label')\n",
    "plt.xlabel('Predicted label')\n",
    "plt.show()"
   ]
  },
  {
   "cell_type": "markdown",
   "metadata": {
    "slideshow": {
     "slide_type": "slide"
    }
   },
   "source": [
    "### How to Use Reverse Mode"
   ]
  },
  {
   "cell_type": "code",
   "execution_count": null,
   "metadata": {
    "slideshow": {
     "slide_type": "fragment"
    }
   },
   "outputs": [],
   "source": [
    "from Dotua.rautodiff import rAutoDiff\n",
    "from Dotua.roperator import rOperator as rop"
   ]
  },
  {
   "cell_type": "code",
   "execution_count": null,
   "metadata": {
    "slideshow": {
     "slide_type": "fragment"
    }
   },
   "outputs": [],
   "source": [
    "rad = rAutoDiff()\n",
    "w, z = rad.create_rscalar([2,3])"
   ]
  },
  {
   "cell_type": "code",
   "execution_count": null,
   "metadata": {
    "slideshow": {
     "slide_type": "fragment"
    }
   },
   "outputs": [],
   "source": [
    "f2 = 2*w - 4*z\n",
    "print(f2.eval())\n",
    "print(rad.partial(f2, w))"
   ]
  },
  {
   "cell_type": "markdown",
   "metadata": {},
   "source": [
    "# Reverse Mode Implementation (High Level)\n",
    "\n",
    "#### In designing our implementation we have focused on \n",
    "\n",
    "1. Expressibility\n",
    "2. Efficiency\n",
    "3. Ease of Use"
   ]
  },
  {
   "cell_type": "markdown",
   "metadata": {},
   "source": [
    "## Expressibility\n",
    "\n",
    "Given that Dotua is meant as a partial NumPy replacement, it is essential that users are able to express any mathematical function with Dotua that they could with NumPy.  To this end Dotua offers the following function support with reverse mode automatic differentation\n",
    "\n",
    "- Basic functions: addition, subtraction, multiplication, division, exponentiation, and negation\n",
    "- Trigonometric functions: sine, cosine, and tangent\n",
    "- Inverse trigonometric functions: arcsine, arccosine, arctangent, \n",
    "- Hyperbolic functions: \n",
    "- Logarithms of any base\n",
    "- Roots of arbitrary degree\n",
    "- Logistic functions"
   ]
  },
  {
   "cell_type": "code",
   "execution_count": 3,
   "metadata": {},
   "outputs": [],
   "source": [
    "# Complex function demo\n",
    "rad_init = rAutoDiff()\n",
    "\n",
    "vals = [7, 11, 13, 17, 23, 29]\n",
    "a, b, c, d, f, h = rad.create_rscalar(vals)\n",
    "\n",
    "func = op.arccosh(a) / (op.log(c) ** (op.arcsin(b ** -2))) + \\\n",
    "       op.cos((op.tan(h + a) ** op.log(d * h, base=2)) / (op.sin(f) * op.cos(f))\n",
    "\n",
    "func.eval()\n",
    "func.partial(a)\n",
    "func.partial(b)\n",
    "func.partial(c)\n",
    "func.partial(d)\n",
    "func.partial(f)\n",
    "func.partial(h)"
   ]
  },
  {
   "cell_type": "markdown",
   "metadata": {},
   "source": [
    "Note: Embed Wolfram Alpha calculation of derivative"
   ]
  },
  {
   "cell_type": "markdown",
   "metadata": {
    "slideshow": {
     "slide_type": "slide"
    }
   },
   "source": [
    "## Eficiency\n",
    "\n",
    "- Compared with forward mode, fewer operations necessary to compute a gradient of a single function\n",
    "- O(n) vs. O(m)"
   ]
  },
  {
   "cell_type": "markdown",
   "metadata": {
    "slideshow": {
     "slide_type": "subslide"
    }
   },
   "source": [
    "## Ease of Use\n",
    "\n",
    "- Similar to NumPy definitions\n",
    "- Extensive function support"
   ]
  },
  {
   "cell_type": "markdown",
   "metadata": {},
   "source": [
    "# Reverse Mode Implementation (Low Level)\n",
    "\n",
    "#### In designing our implementation we have focused on \n",
    "\n",
    "1. rScalar\n",
    "2. rOperator\n",
    "3. rAutoDiff"
   ]
  },
  {
   "cell_type": "markdown",
   "metadata": {},
   "source": [
    "## rScalar\n",
    "\n"
   ]
  },
  {
   "cell_type": "markdown",
   "metadata": {},
   "source": [
    "## rOperator\n",
    "\n"
   ]
  },
  {
   "cell_type": "markdown",
   "metadata": {},
   "source": [
    "## rAutoDiff\n",
    "\n"
   ]
  }
 ],
 "metadata": {
  "celltoolbar": "Slideshow",
  "kernelspec": {
   "display_name": "Python 3",
   "language": "python",
   "name": "python3"
  },
  "language_info": {
   "codemirror_mode": {
    "name": "ipython",
    "version": 3
   },
   "file_extension": ".py",
   "mimetype": "text/x-python",
   "name": "python",
   "nbconvert_exporter": "python",
   "pygments_lexer": "ipython3",
   "version": "3.6.5"
  }
 },
 "nbformat": 4,
 "nbformat_minor": 2
}
