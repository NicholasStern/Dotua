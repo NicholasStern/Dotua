{
 "cells": [
  {
   "cell_type": "code",
   "execution_count": null,
   "metadata": {},
   "outputs": [],
   "source": [
    "from notebook.services.config import ConfigManager\n",
    "cm = ConfigManager()\n",
    "cm.update('livereveal', {\n",
    "              'width': 1000,\n",
    "              'height': 600,\n",
    "              'scroll': True,\n",
    "})"
   ]
  },
  {
   "cell_type": "markdown",
   "metadata": {
    "slideshow": {
     "slide_type": "slide"
    }
   },
   "source": [
    "# Dotua \n",
    "## An Automatic Differentiation Python Package\n",
    "### Nick Stern, Summer Yuan, Zach Wehrwein, Vincent Viego"
   ]
  },
  {
   "cell_type": "markdown",
   "metadata": {
    "slideshow": {
     "slide_type": "slide"
    }
   },
   "source": [
    "## Structure of Presentation\n",
    "1. Relevance of automatic differentiation\n",
    "2. Forward mode high level/deep dive\n",
    "3. Reverse mode background/importance\n",
    "4. Reverse mode high level/deep dive\n",
    "5. Newton Raphson + Neural Network Demos"
   ]
  },
  {
   "cell_type": "markdown",
   "metadata": {
    "slideshow": {
     "slide_type": "slide"
    }
   },
   "source": [
    "## Automatic Differentiation - Why Does it Matter?"
   ]
  },
  {
   "cell_type": "markdown",
   "metadata": {
    "slideshow": {
     "slide_type": "fragment"
    }
   },
   "source": [
    "* ### What is automatic differentiation?\n",
    "  * A way to take derivatives quickly with machine precision"
   ]
  },
  {
   "cell_type": "markdown",
   "metadata": {
    "slideshow": {
     "slide_type": "slide"
    }
   },
   "source": [
    "* ### How does it work?\n",
    "  * Propagate derivatives of elementary functions as more complicated ones are built\n",
    "  <center><img src=\"images/autodiff_graph.png\" width=\"600\"></center>"
   ]
  },
  {
   "cell_type": "markdown",
   "metadata": {
    "slideshow": {
     "slide_type": "slide"
    }
   },
   "source": [
    "* ### Why do we care?\n",
    "  * Derivatives are everywhere!!\n",
    "  * Tons of numerical simulations involving diffeq’s, i.e. hydrodynamics simulations\n",
    "    * Nuclear Fusion, Oceanography, Modeling Gravity\n",
    "  * Applications in optimization\n",
    "    * Neural Networks\n",
    "    * Robotics"
   ]
  },
  {
   "cell_type": "markdown",
   "metadata": {
    "slideshow": {
     "slide_type": "slide"
    }
   },
   "source": [
    "### Lawrence Livermore National Lab Kinematic Impact Studies:\n",
    "<center><img src=\"images/spheral_image.png\" width=\"800\"></center>"
   ]
  },
  {
   "cell_type": "markdown",
   "metadata": {
    "slideshow": {
     "slide_type": "slide"
    }
   },
   "source": [
    "## Forward Mode at a Glance\n",
    "### Initializer class: AutoDiff  \n",
    "* Two object classes:\n",
    "  * Scalar:\n",
    "    * Stores value in ._val\n",
    "    * Stores jacobian in dictionary\n",
    "    * Allows for “f = x + y”\n",
    "  * Vector:\n",
    "    * Permits elementwise operations\n",
    "    * Stores value in ._val\n",
    "    * Stores jacobian in dictionary\n",
    "       * Jacobian refers to elements in vector\n",
    "       \n",
    "### Operator class: Operator\n",
    "* Exactly like numpy but for AutoDiff objects.\n"
   ]
  },
  {
   "cell_type": "markdown",
   "metadata": {
    "slideshow": {
     "slide_type": "slide"
    }
   },
   "source": [
    "### How to Use Forward Mode"
   ]
  },
  {
   "cell_type": "code",
   "execution_count": 1,
   "metadata": {
    "slideshow": {
     "slide_type": "fragment"
    }
   },
   "outputs": [],
   "source": [
    "from Dotua.autodiff import AutoDiff as ad\n",
    "from Dotua.operator import Operator as op"
   ]
  },
  {
   "cell_type": "code",
   "execution_count": 2,
   "metadata": {
    "slideshow": {
     "slide_type": "fragment"
    }
   },
   "outputs": [
    {
     "data": {
      "text/plain": [
       "-1"
      ]
     },
     "execution_count": 2,
     "metadata": {},
     "output_type": "execute_result"
    }
   ],
   "source": [
    "x, y = ad.create_scalar([1,2])\n",
    "f = x - y\n",
    "f.eval()"
   ]
  },
  {
   "cell_type": "markdown",
   "metadata": {
    "slideshow": {
     "slide_type": "slide"
    }
   },
   "source": [
    "## Forward Mode deep dive\n",
    "\n",
    "### What if users add more variables after some functions are defined?"
   ]
  },
  {
   "cell_type": "markdown",
   "metadata": {
    "slideshow": {
     "slide_type": "fragment"
    }
   },
   "source": [
    "* Imagine we construct a function f = x + y"
   ]
  },
  {
   "cell_type": "markdown",
   "metadata": {
    "slideshow": {
     "slide_type": "fragment"
    }
   },
   "source": [
    "* A jacobian is initialized for the variables \"x\" and \"y\""
   ]
  },
  {
   "cell_type": "markdown",
   "metadata": {
    "slideshow": {
     "slide_type": "fragment"
    }
   },
   "source": [
    "* Everything is fine as long as user only defines functions of \"x\" and \"y\""
   ]
  },
  {
   "cell_type": "markdown",
   "metadata": {
    "slideshow": {
     "slide_type": "fragment"
    }
   },
   "source": [
    "* However, the user then builds a new function g = a + b, which has a new jacobian containing variables \"a\" and \"b.\""
   ]
  },
  {
   "cell_type": "markdown",
   "metadata": {
    "slideshow": {
     "slide_type": "fragment"
    }
   },
   "source": [
    "* If they decide to combine them (h = f + g), how do we handle the separate jacobians? "
   ]
  },
  {
   "cell_type": "markdown",
   "metadata": {
    "slideshow": {
     "slide_type": "slide"
    }
   },
   "source": [
    "### Two possible solutions\n",
    "* Prevent the user from combining functions with separately initialized sets of variables (scalar)\n",
    "* Merge the jacobians into a dictionary where the keys are the variable objects and new elements are set to 0 (vector)"
   ]
  },
  {
   "cell_type": "markdown",
   "metadata": {
    "slideshow": {
     "slide_type": "slide"
    }
   },
   "source": [
    "## Forward Mode Demo: Newton-Raphson Root Approximation"
   ]
  },
  {
   "cell_type": "markdown",
   "metadata": {
    "slideshow": {
     "slide_type": "fragment"
    }
   },
   "source": [
    "### Some imports..."
   ]
  },
  {
   "cell_type": "code",
   "execution_count": 1,
   "metadata": {
    "slideshow": {
     "slide_type": "fragment"
    }
   },
   "outputs": [],
   "source": [
    "%matplotlib inline\n",
    "import sys\n",
    "from Dotua.autodiff import AutoDiff as ad\n",
    "from Dotua.operator import Operator as op\n",
    "import numpy as np\n",
    "from scipy import optimize\n",
    "import matplotlib.pyplot as plt"
   ]
  },
  {
   "cell_type": "markdown",
   "metadata": {
    "slideshow": {
     "slide_type": "fragment"
    }
   },
   "source": [
    "### The Algorithm:"
   ]
  },
  {
   "cell_type": "code",
   "execution_count": 2,
   "metadata": {
    "slideshow": {
     "slide_type": "fragment"
    }
   },
   "outputs": [],
   "source": [
    "def NewtonsMethod(func, x0, tol=1e-15, maxiters=1000):\n",
    "    '''\n",
    "    Computes the roots of func through iterative guesses until change is below tolerance.\n",
    "\n",
    "    Takes in a function (func), a point at which to estimate (x0),\n",
    "        an error tolerance (tol), and a maximum number of iterations (maxiters).\n",
    "\n",
    "    func must be composed of 'AutoDiff.Operator' operations and AutoDiff.Scalar structures.\n",
    "\n",
    "    Example usage:\n",
    "    '''\n",
    "\n",
    "    xn = x0\n",
    "    steps = []\n",
    "\n",
    "    for i in range(maxiters):\n",
    "\n",
    "        # Calculate y at this step.\n",
    "        y = func(xn)._val\n",
    "\n",
    "        # Calculate derivative at this step\n",
    "        dy_dx = list(func(xn)._jacobian.values())[0]\n",
    "\n",
    "        # If y reaches tolerance, stop\n",
    "        if abs(y) < tol:\n",
    "            return xn._val, steps\n",
    "            break\n",
    "\n",
    "        else:\n",
    "            steps.append((xn._val, y))\n",
    "            # Compute Newton Step\n",
    "            x_next = y / dy_dx\n",
    "\n",
    "            # Update X\n",
    "            xn = xn - x_next\n",
    "\n",
    "\n",
    "    return xn._val, steps"
   ]
  },
  {
   "cell_type": "markdown",
   "metadata": {
    "slideshow": {
     "slide_type": "fragment"
    }
   },
   "source": [
    "### Comparison"
   ]
  },
  {
   "cell_type": "code",
   "execution_count": 3,
   "metadata": {
    "slideshow": {
     "slide_type": "fragment"
    }
   },
   "outputs": [
    {
     "name": "stdout",
     "output_type": "stream",
     "text": [
      "Root Found Using Dotua:  2.9802322387695312e-08\n",
      "Root Found Using Standard Library:  1.5813234334835293e-08\n"
     ]
    }
   ],
   "source": [
    "ans, steps = NewtonsMethod(lambda x: x*x, ad.create_scalar(1))\n",
    "print('Root Found Using Dotua: ', ans)\n",
    "print('Root Found Using Standard Library: ', optimize.newton(lambda x: x**2, 1))"
   ]
  },
  {
   "cell_type": "markdown",
   "metadata": {
    "slideshow": {
     "slide_type": "slide"
    }
   },
   "source": [
    "### Let's Visualize It!"
   ]
  },
  {
   "cell_type": "code",
   "execution_count": 4,
   "metadata": {
    "slideshow": {
     "slide_type": "slide"
    }
   },
   "outputs": [],
   "source": [
    "import time\n",
    "from IPython import display\n",
    "\n",
    "def run_plot():\n",
    "    xvals = np.linspace(-1,1,100)\n",
    "    fig, ax = plt.subplots(figsize=(10,6))\n",
    "    ax.scatter([x[0] for x in steps], [x[1] for x in steps], c='r')\n",
    "    ax.plot(xvals, xvals**2)\n",
    "    for step in steps:\n",
    "        ax.plot([step[0]]*100, np.linspace(-.1, step[1],100), 'r--')\n",
    "        ax.set_xlabel('X', fontsize=15)\n",
    "        ax.set_ylabel('Y', fontsize=15)\n",
    "        ax.set_title('Newton Raphson Demo w/ Autodiff', fontsize=20)\n",
    "        display.clear_output(wait=True)\n",
    "        display.display(fig)\n",
    "        time.sleep(.2)\n",
    "    display.clear_output(wait=True)"
   ]
  },
  {
   "cell_type": "code",
   "execution_count": 5,
   "metadata": {
    "slideshow": {
     "slide_type": "slide"
    }
   },
   "outputs": [
    {
     "data": {
      "image/png": "[encoded data removed]",
      "text/plain": [
       "<Figure size 720x432 with 1 Axes>"
      ]
     },
     "metadata": {},
     "output_type": "display_data"
    }
   ],
   "source": [
    "run_plot()"
   ]
  },
  {
   "cell_type": "markdown",
   "metadata": {
    "slideshow": {
     "slide_type": "slide"
    }
   },
   "source": [
    "# Reverse Mode Motivation"
   ]
  },
  {
   "cell_type": "markdown",
   "metadata": {
    "slideshow": {
     "slide_type": "fragment"
    }
   },
   "source": [
    "- Forward mode allows efficient computation of the partial derivatives of multiple functions."
   ]
  },
  {
   "cell_type": "markdown",
   "metadata": {
    "slideshow": {
     "slide_type": "fragment"
    }
   },
   "source": [
    "- Reverse mode allows efficient computation of the gradient of a single function."
   ]
  },
  {
   "cell_type": "markdown",
   "metadata": {
    "slideshow": {
     "slide_type": "fragment"
    }
   },
   "source": [
    "- In NN: we wish to calculate the slope of each weight w/r/t a loss function."
   ]
  },
  {
   "cell_type": "markdown",
   "metadata": {
    "slideshow": {
     "slide_type": "fragment"
    }
   },
   "source": [
    "- AD a necessary aspect of contemporary ML because it allows for us to make this calculation."
   ]
  },
  {
   "cell_type": "markdown",
   "metadata": {
    "slideshow": {
     "slide_type": "slide"
    }
   },
   "source": [
    "For a given input $u$, output $w_1$, and a yet-to-be calculated variable $s$:\n",
    "\n",
    "Forward mode chain rule:\n",
    "\n",
    "$$\\frac{\\partial w}{\\partial t} = \\frac{\\partial w}{\\partial u_1} * \\frac{\\partial u_1}{\\partial t} + \\frac{\\partial w}{\\partial u_2} * \\frac{\\partial u_2}{\\partial t} + ...  $$"
   ]
  },
  {
   "cell_type": "markdown",
   "metadata": {
    "slideshow": {
     "slide_type": "fragment"
    }
   },
   "source": [
    "Backward chain rule (inversion of composite functions by flipping numerator and denominator):\n",
    "\n",
    "$$\\frac{\\partial s}{\\partial u} = \\frac{\\partial w_1}{\\partial u} * \\frac{\\partial s}{\\partial w_1} + \\frac{\\partial w_2}{\\partial u} * \\frac{\\partial s}{\\partial w_2} + ... $$"
   ]
  },
  {
   "cell_type": "markdown",
   "metadata": {
    "slideshow": {
     "slide_type": "fragment"
    }
   },
   "source": [
    "- Graph theory intuition most useful."
   ]
  },
  {
   "cell_type": "markdown",
   "metadata": {
    "slideshow": {
     "slide_type": "slide"
    }
   },
   "source": [
    "# Reverse Mode Implementation: High Level\n",
    "\n",
    "- Efficiency\n",
    "- Ease of Use\n",
    "- Expressibility"
   ]
  },
  {
   "cell_type": "markdown",
   "metadata": {
    "slideshow": {
     "slide_type": "slide"
    }
   },
   "source": [
    "# Efficiency\n",
    "\n",
    "- Gradient computaional overhead scales linearly in the number of user defined functions\n",
    "- Favorable for certain applications in comparison to forward mode where overhead scales linearly in the number of input variables"
   ]
  },
  {
   "cell_type": "markdown",
   "metadata": {
    "slideshow": {
     "slide_type": "slide"
    }
   },
   "source": [
    "# Ease of Use\n",
    "\n",
    "- Comparable to NumPy usage syntax\n",
    "- Limited initialization"
   ]
  },
  {
   "cell_type": "code",
   "execution_count": 9,
   "metadata": {
    "slideshow": {
     "slide_type": "fragment"
    }
   },
   "outputs": [
    {
     "data": {
      "text/plain": [
       "<Dotua.nodes.rscalar.rScalar at 0x101b441048>"
      ]
     },
     "execution_count": 9,
     "metadata": {},
     "output_type": "execute_result"
    }
   ],
   "source": [
    "import numpy as np\n",
    "\n",
    "np.sin(5)\n",
    "\n",
    "from Dotua.roperator import rOperator as rop\n",
    "from Dotua.rautodiff import rAutoDiff\n",
    "\n",
    "rop.sin(5)\n",
    "\n",
    "rad = rAutoDiff()\n",
    "x = rad.create_rscalar(5)\n",
    "rop.sin(x)"
   ]
  },
  {
   "cell_type": "markdown",
   "metadata": {
    "slideshow": {
     "slide_type": "slide"
    }
   },
   "source": [
    "## Expressibility\n",
    "\n",
    "### Given that **Dotua** aims to be a partial NumPy replacement, it is essential that users can be as mathematically expressive with **Dotua** as the can be with NumPy.  \n",
    "\n",
    "__Operator Support__:\n",
    "- Basic functions: addition, subtraction, multiplication, division, exponentiation, and negation\n",
    "- Trigonometric functions: sine, cosine, and tangent\n",
    "- Inverse trigonometric functions: arcsine, arccosine, arctangent, \n",
    "- Hyperbolic functions and their inverses: sine, cosine, and tangents\n",
    "- Logarithms of any base\n",
    "- Natural exponentials\n",
    "\n",
    "__Functional Support__:\n",
    "- Roots of arbitrary degree\n",
    "- Logistic functions"
   ]
  },
  {
   "cell_type": "code",
   "execution_count": 10,
   "metadata": {
    "slideshow": {
     "slide_type": "slide"
    }
   },
   "outputs": [
    {
     "name": "stdout",
     "output_type": "stream",
     "text": [
      "f:  2.578175798120918\n",
      "df/da:  1.639349254446802\n",
      "df/db:  -3.0650165357059316\n",
      "df/dc:  -0.0007596792228180783\n",
      "df/dd:  0.07206032210419326\n",
      "df/de:  -2.312173196221017\n",
      "df/df:  1.639349254446802\n"
     ]
    }
   ],
   "source": [
    "from Dotua.roperator import rOperator as rop\n",
    "\n",
    "# Complex function demo\n",
    "rad = rAutoDiff()\n",
    "\n",
    "vals = [0.5, 11, 13, 17, 23, 0.4]\n",
    "a, b, c, d, f, h = rad.create_rscalar(vals)\n",
    "\n",
    "func = rop.arccosh(b) / (rop.log(c) ** (rop.arcsin(b ** -2))) + \\\n",
    "       rop.cos((rop.tan(h + a) ** rop.log(d * h, base=2)) / (rop.sin(f) * rop.cos(f)))\n",
    "\n",
    "print('f: ', func.eval()) \n",
    "print('df/da: ', rad.partial(func, a))\n",
    "print('df/db: ', rad.partial(func, b))\n",
    "print('df/dc: ', rad.partial(func, c))\n",
    "print('df/dd: ', rad.partial(func, d))\n",
    "print('df/de: ', rad.partial(func, f))\n",
    "print('df/df: ', rad.partial(func, h))"
   ]
  },
  {
   "cell_type": "markdown",
   "metadata": {
    "slideshow": {
     "slide_type": "slide"
    }
   },
   "source": [
    "# Reverse Mode Implementation: Low Level\n",
    "\n",
    "- Constructing the computational graph\n",
    "- Calculating gradients\n",
    "- Handling multiple functions"
   ]
  },
  {
   "cell_type": "markdown",
   "metadata": {
    "slideshow": {
     "slide_type": "slide"
    }
   },
   "source": [
    "## Constructing the Computational Graph\n",
    "\n",
    "- **rScalar** overloaded operators create intermediary nodes in the computational graph\n",
    "- The *roots* class attribute of **rScalar** objects stores the computational graph pathway to the input variables. \n",
    "- This storage method delays derivative computation until the user specifies the function to be differentiated"
   ]
  },
  {
   "cell_type": "code",
   "execution_count": null,
   "metadata": {
    "slideshow": {
     "slide_type": "fragment"
    }
   },
   "outputs": [],
   "source": [
    "def __init__(self, val):\n",
    "    self._val = val\n",
    "    self._roots = {}  # keys are input rScalars, vals are lists of intemediary rScalars\n",
    "    self._grad_val = 0\n",
    "    \n",
    "def _init_roots(self):\n",
    "    self._roots[self] = [(None, 1)]"
   ]
  },
  {
   "cell_type": "markdown",
   "metadata": {
    "slideshow": {
     "slide_type": "fragment"
    }
   },
   "source": [
    "- **rOperator** functions also create intermediary nodes in the computational graph\n",
    "- Dotua's **rOperator** functions can also handle non-rScalar objects (Python numeric types) "
   ]
  },
  {
   "cell_type": "markdown",
   "metadata": {
    "slideshow": {
     "slide_type": "slide"
    }
   },
   "source": [
    "## Calculating Gradients\n",
    "\n",
    "- The **rAutoDiff** class provides a user interface for calculating derivatives of functions of **rScalar** and **rVector** variables\n",
    "- The **rScalar** and **rVector** gradient methods use the computational graph representations stored in **rScalar** and **rVector** objects to determine derivatives"
   ]
  },
  {
   "cell_type": "markdown",
   "metadata": {
    "slideshow": {
     "slide_type": "fragment"
    }
   },
   "source": [
    "- **rScalar** variables recursively use the computational graph defined in *self.roots*\n",
    "- Derivatives are propagated down to the user defined input variable of interest"
   ]
  },
  {
   "cell_type": "markdown",
   "metadata": {
    "slideshow": {
     "slide_type": "slide"
    }
   },
   "source": [
    "## Illustration\n",
    "\n",
    "<center><img src=\"images/reverse_graph.png\" width=\"400\"></center>\n",
    "\n",
    "| Node | Children | Roots |\n",
    "| --- | --- | --- |\n",
    "| x | sin(x) | { x: (None, 1) } |\n",
    "| y | sin(x) | { y: (None, 1) } |\n",
    "| sin(x) | F | { y: (y, dsin(y)/dy) } |\n",
    "| sin(y) | F | { x: (x, dsin(x)/dx) } |\n",
    "| F | None | { x: (sin(x), dF/dsin(x)) , y: (sin(y), dF/dsin(y)) } |"
   ]
  },
  {
   "cell_type": "markdown",
   "metadata": {
    "slideshow": {
     "slide_type": "slide"
    }
   },
   "source": [
    "## Differentiating Overlapping Computational Graphs\n",
    "\n",
    "- Initialize and manage **rScalar** objects through a centralized object: **rAutoDiff**\n",
    "- **rAutoDiff** objects provide user interface for calculating derivatives\n",
    "- **rAutoDiff** objects \"know\" when to reset **rScalar** gradient class variables"
   ]
  },
  {
   "cell_type": "markdown",
   "metadata": {
    "slideshow": {
     "slide_type": "fragment"
    }
   },
   "source": [
    "- **rAutoDiff** objects keep track of user defined **rScalar** objects\n",
    "- **rAutoDiff** \"remember\" the last function the user differentiated\n",
    "- When necessary, **rAutoDiff** objects can reset the gradient values cached in all **rScalar** variables"
   ]
  },
  {
   "cell_type": "markdown",
   "metadata": {
    "slideshow": {
     "slide_type": "slide"
    }
   },
   "source": [
    "## Reverse Mode Demo: Neural Network"
   ]
  },
  {
   "cell_type": "code",
   "execution_count": 11,
   "metadata": {
    "slideshow": {
     "slide_type": "fragment"
    }
   },
   "outputs": [
    {
     "data": {
      "image/png": "[encoded data removed]",
      "text/plain": [
       "<Figure size 576x432 with 1 Axes>"
      ]
     },
     "metadata": {},
     "output_type": "display_data"
    }
   ],
   "source": [
    "from sklearn import datasets\n",
    "from sklearn.decomposition import PCA\n",
    "\n",
    "iris = datasets.load_iris()\n",
    "X = iris.data\n",
    "y = iris.target\n",
    "\n",
    "x_min, x_max = X[:, 0].min() - .5, X[:, 0].max() + .5\n",
    "y_min, y_max = X[:, 1].min() - .5, X[:, 1].max() + .5\n",
    "\n",
    "plt.figure(figsize=(8, 6))\n",
    "\n",
    "plt.scatter(X[:, 0], X[:, 1], c=y, cmap=plt.cm.Set1,\n",
    "            edgecolor='k')\n",
    "plt.xlabel('Sepal length')\n",
    "plt.ylabel('Sepal width')\n",
    "\n",
    "plt.xlim(x_min, x_max)\n",
    "plt.ylim(y_min, y_max)\n",
    "plt.xticks(())\n",
    "plt.yticks(())\n",
    "plt.show()"
   ]
  },
  {
   "cell_type": "code",
   "execution_count": null,
   "metadata": {
    "slideshow": {
     "slide_type": "fragment"
    }
   },
   "outputs": [],
   "source": [
    "from Dotua.rautodiff import rAutoDiff as rad\n",
    "from Dotua.roperator import rOperator as op\n",
    "import random\n",
    "\n",
    "rad = rad()\n",
    "\n",
    "class NeuralNetwork():\n",
    "    def __init__(self, input_vals, input_bias, hidden_bias, num_hidden, output, learning_rate = 0.1):\n",
    "        self.input_vals = input_vals\n",
    "        self.input_bias = input_bias\n",
    "        self.hidden_bias = hidden_bias\n",
    "        self.num_hidden = num_hidden\n",
    "        self.output = output\n",
    "        self.learning_rate = learning_rate\n",
    "\n",
    "        self.weights_tohidden = [None] * num_hidden\n",
    "        for i in range(num_hidden):\n",
    "            self.weights_tohidden[i] = []\n",
    "            for j in range(len(input_vals)):\n",
    "                \n",
    "                #DOTUA USED HERE: to initalize the weights from the input to hidden layer.\n",
    "                w = rad.create_rscalar(random.random())\n",
    "                self.weights_tohidden[i].append(w)\n",
    "                self.weights_tooutput = [None] * len(output)\n",
    "        \n",
    "        for i in range(len(output)):\n",
    "            self.weights_tooutput[i] = []\n",
    "            \n",
    "            #DOTUA USED HERE: to initialize weights from hidden to output.\n",
    "            w = rad.create_rscalar(random.random())\n",
    "            for j in range(num_hidden):\n",
    "                self.weights_tooutput[i].append(w)\n",
    "\n",
    "    def train(self, input_vals, output_vals):\n",
    "        self.input_vals = input_vals\n",
    "        self.output = output_vals\n",
    "\n",
    "        #calculation of hidden layer.\n",
    "        self.hidden_layer = []\n",
    "        for i in range(self.num_hidden):\n",
    "            h = 0\n",
    "            for j in range(len(self.weights_tohidden[i])):\n",
    "                h = h + self.weights_tohidden[i][j] * self.input_vals[j]\n",
    "            h = h + self.input_bias\n",
    "            self.hidden_layer.append(1/(1+op.exp(-h)))\n",
    "\n",
    "        # To calculate the output layer neurons and error\n",
    "        error = 0\n",
    "        for i in range(len(self.output)):\n",
    "            o = 0\n",
    "            for j in range(len(self.weights_tooutput[i])):\n",
    "                o = o + self.weights_tooutput[i][j] * self.hidden_layer[j]\n",
    "            o = o + self.hidden_bias\n",
    "            o = 1/(1+op.exp(-o))\n",
    "            error = error + (o - self.output[i]) ** 2\n",
    "\n",
    "        # To update weights from hidden layer to output layer\n",
    "        for i in range(len(self.weights_tooutput)):\n",
    "            for j in range(len(self.weights_tooutput[i])):\n",
    "                \n",
    "                #DOTUA USED HERE:\n",
    "                d = rad.partial(error, self.weights_tooutput[i][j])\n",
    "                self.weights_tooutput[i][j] = self.weights_tooutput[i][j] - d * self.learning_rate\n",
    "\n",
    "        # To update weights from input layer to hidden layer\n",
    "        for i in range(len(self.weights_tohidden)):\n",
    "            for j in range(len(self.weights_tooutput[i])):\n",
    "                \n",
    "                #DOTUA USED HERE:\n",
    "                d = rad.partial(error, self.weights_tohidden[i][j])\n",
    "                self.weights_tohidden[i][j] = self.weights_tohidden[i][j] - d * self.learning_rate\n",
    "\n",
    "    def predict(self, input_vals, output_vals):\n",
    "        self.input_vals = input_vals\n",
    "        self.output = output_vals\n",
    "\n",
    "        # To calculate the hidden layer neurons using the current model\n",
    "        self.hidden_layer = []\n",
    "        for i in range(self.num_hidden):\n",
    "            h = 0\n",
    "            for j in range(len(self.weights_tohidden[i])):\n",
    "                h = h + self.weights_tohidden[i][j] * self.input_vals[j]\n",
    "            h = h + self.input_bias\n",
    "            self.hidden_layer.append(1/(1+op.exp(-h)))\n",
    "\n",
    "        # To calculate the output layer neurons using the current model and calculate the error \n",
    "        error = 0\n",
    "        output_layer = []\n",
    "        for i in range(len(self.output)):\n",
    "            o = 0\n",
    "            for j in range(len(self.weights_tooutput[i])):\n",
    "                o = o + self.weights_tooutput[i][j] * self.hidden_layer[j]\n",
    "            o = o + self.hidden_bias\n",
    "            o = 1/(1+op.exp(-o))\n",
    "            output_layer.append(o.val)\n",
    "            error = error + (o - self.output[i]) ** 2\n",
    "        error = error / len(self.output)\n",
    "        return (output_layer, error.val)"
   ]
  },
  {
   "cell_type": "code",
   "execution_count": null,
   "metadata": {
    "slideshow": {
     "slide_type": "fragment"
    }
   },
   "outputs": [],
   "source": [
    "from sklearn.model_selection import train_test_split\n",
    "\n",
    "X_train, X_test, y_train, y_test = train_test_split(X, y, test_size=.1, random_state=42)\n",
    "\n",
    "\n",
    "def get_y(i):\n",
    "    train_y = [0,0,0]\n",
    "    train_y[i] = 1\n",
    "    return train_y\n",
    "\n",
    "nn = NeuralNetwork([0,0,0],.33,0,3,[0,0,0])\n",
    "\n",
    "for j in range(10):\n",
    "    for i in range(1, len(X_train)):\n",
    "        nn.train(X_train[i], get_y(y_train[i]))\n",
    "\n",
    "train_e = []\n",
    "true_train_y = []\n",
    "predicted_train_y = []\n",
    "train_outputs = []\n",
    "for i in range(1, len(X_train)):\n",
    "    output,e = nn.predict(X_train[i], get_y(y_train[i]))\n",
    "    train_e.append(e)\n",
    "    if max(output) == output[0]:\n",
    "        predicted_train_y.append(0)\n",
    "    elif max(output) == output[1]:\n",
    "        predicted_train_y.append(1)\n",
    "    else:\n",
    "        predicted_train_y.append(2)\n",
    "    true_train_y.append(y_train[i])\n",
    "    train_outputs.append(output)\n",
    "    \n",
    "test_e = []\n",
    "true_test_y = []\n",
    "predicted_test_y = []\n",
    "for i in range(1, len(X_test)):\n",
    "    output,e = nn.predict(X_test[i], get_y(y_test[i]))\n",
    "    test_e.append(e)\n",
    "    if max(output) == output[0]:\n",
    "        predicted_test_y.append(0)\n",
    "    elif max(output) == output[1]:\n",
    "        predicted_test_y.append(1)\n",
    "    else:\n",
    "        predicted_test_y.append(2)\n",
    "    true_test_y.append(y_train[i])"
   ]
  },
  {
   "cell_type": "code",
   "execution_count": null,
   "metadata": {
    "slideshow": {
     "slide_type": "slide"
    }
   },
   "outputs": [],
   "source": [
    "import pandas as pd\n",
    "import seaborn as sns\n",
    "from sklearn.metrics import classification_report,confusion_matrix\n",
    "\n",
    "df_cm = pd.DataFrame(confusion_matrix(true_train_y,predicted_train_y),\n",
    "                     index=['setosa','versicolor','virginica'], columns=['setosa','versicolor','virginica'])\n",
    "plt.figure(figsize=(8, 6))\n",
    "heatmap = sns.heatmap(df_cm, annot=True, fmt=\"d\")\n",
    "heatmap.yaxis.set_ticklabels(heatmap.yaxis.get_ticklabels(), rotation=0, fontsize=14)\n",
    "heatmap.xaxis.set_ticklabels(heatmap.xaxis.get_ticklabels(), rotation=45, fontsize=14)\n",
    "plt.ylabel('True label')\n",
    "plt.xlabel('Predicted label')\n",
    "plt.show()"
   ]
  },
  {
   "cell_type": "markdown",
   "metadata": {
    "slideshow": {
     "slide_type": "slide"
    }
   },
   "source": [
    "## References\n",
    "- https://str.llnl.gov/december-2013/miller \n",
    "- https://en.wikipedia.org/wiki/Automatic_differentiation \n",
    "- https://rufflewind.com/2016-12-30/reverse-mode-automatic-differentiation"
   ]
  },
  {
   "cell_type": "markdown",
   "metadata": {
    "slideshow": {
     "slide_type": "slide"
    }
   },
   "source": [
    "# Questions"
   ]
  }
 ],
 "metadata": {
  "celltoolbar": "Slideshow",
  "kernelspec": {
   "display_name": "Python 3",
   "language": "python",
   "name": "python3"
  },
  "language_info": {
   "codemirror_mode": {
    "name": "ipython",
    "version": 3
   },
   "file_extension": ".py",
   "mimetype": "text/x-python",
   "name": "python",
   "nbconvert_exporter": "python",
   "pygments_lexer": "ipython3",
   "version": "3.6.7"
  }
 },
 "nbformat": 4,
 "nbformat_minor": 2
}
