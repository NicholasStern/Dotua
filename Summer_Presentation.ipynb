{
 "cells": [
  {
   "cell_type": "code",
   "execution_count": 34,
   "metadata": {},
   "outputs": [
    {
     "data": {
      "text/plain": [
       "{'width': 1000, 'height': 600, 'scroll': True}"
      ]
     },
     "execution_count": 34,
     "metadata": {},
     "output_type": "execute_result"
    }
   ],
   "source": [
    "from notebook.services.config import ConfigManager\n",
    "cm = ConfigManager()\n",
    "cm.update('livereveal', {\n",
    "              'width': 1000,\n",
    "              'height': 600,\n",
    "              'scroll': True,\n",
    "})"
   ]
  },
  {
   "cell_type": "markdown",
   "metadata": {},
   "source": [
    "## Forward Mode deep dive\n",
    "\n",
    "### What if users add more variables after some functions are defined?\n",
    "\n",
    "* There are only two variables x and y and a function f = x +y in the system\n",
    "\n",
    "* We use [1,0] for the initial derivative of x  and [0,1] for the initial derivative of y\n",
    "\n",
    "* Everything is fine as long as user only defines functions of x and y\n",
    "\n",
    "* Then the user defines two new variables a and b and a new function g = a + b \n",
    "\n",
    "* We use [1,0] for the initial derivative of a  and [0,1] for the initial derivative of b\n",
    "\n",
    "* Then the user defines a new function h = f + g\n",
    "\n",
    "* And when the user calls partial for the gradient of function h with regarding to a, he gets 2\n",
    "\n",
    "* ### He adds up variables in different universes"
   ]
  },
  {
   "cell_type": "markdown",
   "metadata": {},
   "source": [
    "### A possible solution\n",
    "* Please do not do calculations between variables in different universes\n",
    "* Please remember that the first position is for x and the second position is for y\n",
    "\n",
    "### Our solution\n",
    "* Dictionaries are used to keep gradients of every variable included in the functions and variable objects are used as keys of the dictionaries"
   ]
  },
  {
   "cell_type": "markdown",
   "metadata": {},
   "source": [
    "## Newton method Example"
   ]
  },
  {
   "cell_type": "code",
   "execution_count": 35,
   "metadata": {},
   "outputs": [],
   "source": [
    "def NewtonsMethod(func, x0, tol=1e-15, maxiters=1000):\n",
    "    '''\n",
    "    Computes the roots of func through iterative guesses until change is below tolerance.\n",
    "\n",
    "    Takes in a function (func), a point at which to estimate (x0),\n",
    "        an error tolerance (tol), and a maximum number of iterations (maxiters).\n",
    "\n",
    "    func must be composed of 'AutoDiff.Operator' operations and AutoDiff.Scalar structures.\n",
    "\n",
    "    Example usage:\n",
    "    '''\n",
    "\n",
    "    xn = x0\n",
    "    steps = []\n",
    "\n",
    "    for i in range(maxiters):\n",
    "\n",
    "        # Calculate y at this step.\n",
    "        y = func(xn)._val\n",
    "\n",
    "        # Calculate derivative at this step\n",
    "        dy_dx = list(func(xn)._jacobian.values())[0]\n",
    "\n",
    "        # If y reaches tolerance, stop\n",
    "        if abs(y) < tol:\n",
    "            return xn._val, steps\n",
    "            break\n",
    "\n",
    "        else:\n",
    "            steps.append((xn._val, y))\n",
    "            # Compute Newton Step\n",
    "            x_next = y / dy_dx\n",
    "\n",
    "            # Update X\n",
    "            xn = xn - x_next\n",
    "\n",
    "\n",
    "    return xn._val, steps"
   ]
  },
  {
   "cell_type": "code",
   "execution_count": 36,
   "metadata": {},
   "outputs": [],
   "source": [
    "import sys\n",
    "from Dotua.autodiff import AutoDiff as ad\n",
    "from Dotua.operator import Operator as op\n",
    "import numpy as np\n",
    "from scipy import optimize\n",
    "import matplotlib.pyplot as plt"
   ]
  },
  {
   "cell_type": "code",
   "execution_count": 37,
   "metadata": {},
   "outputs": [
    {
     "data": {
      "text/plain": [
       "1.5813234334835293e-08"
      ]
     },
     "execution_count": 37,
     "metadata": {},
     "output_type": "execute_result"
    }
   ],
   "source": [
    "NewtonsMethod(lambda x: x*x, ad.create_scalar(1))[0]\n",
    "optimize.newton(lambda x: x**2, 1)"
   ]
  },
  {
   "cell_type": "code",
   "execution_count": 38,
   "metadata": {},
   "outputs": [],
   "source": [
    "ans, steps = NewtonsMethod(lambda x: x*x, ad.create_scalar(1))"
   ]
  },
  {
   "cell_type": "code",
   "execution_count": 39,
   "metadata": {},
   "outputs": [
    {
     "data": {
      "image/png": "[encoded data removed]",
      "text/plain": [
       "<Figure size 720x432 with 1 Axes>"
      ]
     },
     "metadata": {
      "needs_background": "light"
     },
     "output_type": "display_data"
    }
   ],
   "source": [
    "xvals = np.linspace(-1,1,100)\n",
    "\n",
    "fig, ax = plt.subplots(figsize=(10,6))\n",
    "ax.scatter([x[0] for x in steps], [x[1] for x in steps], c='r')\n",
    "ax.plot(xvals, xvals**2)\n",
    "for step in steps:\n",
    "    ax.plot([step[0]]*100, np.linspace(-.1, step[1],100), 'r--')\n",
    "    ax.set_xlabel('X', fontsize=15)\n",
    "    ax.set_ylabel('Y', fontsize=15)\n",
    "    ax.set_title('Newton Raphson Demo w/ Autodiff', fontsize=20)\n",
    "    \n",
    "ax.set_xlabel('X', fontsize=15)\n",
    "ax.set_ylabel('Y', fontsize=15)\n",
    "ax.set_title('Newton Raphson Demo w/ Autodiff', fontsize=20)\n",
    "\n",
    "plt.savefig('newton.png')\n",
    "plt.show()"
   ]
  },
  {
   "cell_type": "markdown",
   "metadata": {},
   "source": [
    "<img src='images/newton_0.png' width=\"800\" align=\"center\">\n",
    "<img src='images/newton_1.png' width=\"800\" align=\"center\">\n",
    "<img src='images/newton_2.png' width=\"800\" align=\"center\">\n",
    "<img src='images/newton_3.png' width=\"800\" align=\"center\">\n",
    "<img src='images/newton_24.png' width=\"800\" align=\"center\">"
   ]
  },
  {
   "cell_type": "code",
   "execution_count": null,
   "metadata": {},
   "outputs": [],
   "source": []
  }
 ],
 "metadata": {
  "kernelspec": {
   "display_name": "Python 3",
   "language": "python",
   "name": "python3"
  },
  "language_info": {
   "codemirror_mode": {
    "name": "ipython",
    "version": 3
   },
   "file_extension": ".py",
   "mimetype": "text/x-python",
   "name": "python",
   "nbconvert_exporter": "python",
   "pygments_lexer": "ipython3",
   "version": "3.6.6"
  }
 },
 "nbformat": 4,
 "nbformat_minor": 2
}
