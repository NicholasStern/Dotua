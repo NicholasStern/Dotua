{
 "cells": [
  {
   "cell_type": "code",
   "execution_count": null,
   "metadata": {},
   "outputs": [],
   "source": []
  },
  {
   "cell_type": "code",
   "execution_count": null,
   "metadata": {},
   "outputs": [],
   "source": []
  },
  {
   "cell_type": "markdown",
   "metadata": {},
   "source": [
    "# Reverse Mode Motivation\n",
    "\n",
    "- Forward mode allows efficient computation of the partial derivatives of multiple functions.\n",
    "- Reverse mode allows efficient computation of the gradient of a single function.\n",
    "- In NN: we wish to calculate the slope of each weight w/r/t a loss function.\n",
    "- Backprop: begin with the output layer and sequentially updates weights to the input layer.\n",
    "- AD a necessary aspect of contemporary ML because it allows for us to make this calculation.\n",
    "\n",
    "For a given input $u$, output $w_1$, and a yet-to-be calculated variable $s$:\n",
    "\n",
    "Forward mode chain rule:\n",
    "\n",
    "$$\\frac{\\partial w}{\\partial t} = \\frac{\\partial w}{\\partial u_1} * \\frac{\\partial u_1}{\\partial t} + \\frac{\\partial w}{\\partial u_2} * \\frac{\\partial u_2}{\\partial t} + ...  $$\n",
    "\n",
    "Backward chain rule (inversion of composite functions by flipping numerator and denominator):\n",
    "\n",
    "$$\\frac{\\partial s}{\\partial u} = \\frac{\\partial w_1}{\\partial u} * \\frac{\\partial s}{\\partial w_1} + \\frac{\\partial w_2}{\\partial u} * \\frac{\\partial s}{\\partial w_2} + ... $$\n",
    "\n",
    "\n",
    "- Graph theory intuition most useful."
   ]
  },
  {
   "cell_type": "code",
   "execution_count": null,
   "metadata": {},
   "outputs": [],
   "source": []
  },
  {
   "cell_type": "markdown",
   "metadata": {},
   "source": [
    "# Slide 2 & 3: Code for NN"
   ]
  },
  {
   "cell_type": "code",
   "execution_count": null,
   "metadata": {},
   "outputs": [],
   "source": [
    "#Summer Yuan\n",
    "\n",
    "from Dotua.rautodiff import rAutoDiff as rad\n",
    "from Dotua.roperator import rOperator as op\n",
    "import random\n",
    "\n",
    "rad = rad()\n",
    "\n",
    "class NeuralNetwork():\n",
    "    def __init__(self, input_vals, input_bias, hidden_bias, num_hidden, output, learning_rate = 0.1):\n",
    "        self.input_vals = input_vals\n",
    "        self.input_bias = input_bias\n",
    "        self.hidden_bias = hidden_bias\n",
    "        self.num_hidden = num_hidden\n",
    "        self.output = output\n",
    "        self.learning_rate = learning_rate\n",
    "\n",
    "        self.weights_tohidden = [None] * num_hidden\n",
    "        for i in range(num_hidden):\n",
    "            self.weights_tohidden[i] = []\n",
    "            for j in range(len(input_vals)):\n",
    "                \n",
    "                #DOTUA USED HERE: to initalize the weights from the input to hidden layer.\n",
    "                w = rad.create_rscalar(random.random())\n",
    "                self.weights_tohidden[i].append(w)\n",
    "                self.weights_tooutput = [None] * len(output)\n",
    "                \n",
    "        for i in range(len(output)):\n",
    "            self.weights_tooutput[i] = []\n",
    "            \n",
    "            #DOTUA USED HERE: to initialize weights from hidden to output.\n",
    "            w = rad.create_rscalar(random.random())\n",
    "            for j in range(num_hidden):\n",
    "                self.weights_tooutput[i].append(w)"
   ]
  },
  {
   "cell_type": "code",
   "execution_count": null,
   "metadata": {},
   "outputs": [],
   "source": [
    "    def train(self, input_vals, output_vals):\n",
    "        self.input_vals = input_vals\n",
    "        self.output = output_vals\n",
    "\n",
    "        #calculation of hidden layer.\n",
    "        self.hidden_layer = []\n",
    "        for i in range(self.num_hidden):\n",
    "            h = 0\n",
    "            for j in range(len(self.weights_tohidden[i])):\n",
    "                h = h + self.weights_tohidden[i][j] * self.input_vals[j]\n",
    "            h = h + self.input_bias\n",
    "            self.hidden_layer.append(1/(1+op.exp(-h)))\n",
    "\n",
    "        # To calculate the output layer neurons and error\n",
    "        error = 0\n",
    "        for i in range(len(self.output)):\n",
    "            o = 0\n",
    "            for j in range(len(self.weights_tooutput[i])):\n",
    "                o = o + self.weights_tooutput[i][j] * self.hidden_layer[j]\n",
    "            o = o + self.hidden_bias\n",
    "            o = 1/(1+op.exp(-o))\n",
    "            error = error + (o - self.output[i]) ** 2\n",
    "\n",
    "        # To update weights from hidden layer to output layer\n",
    "        for i in range(len(self.weights_tooutput)):\n",
    "            for j in range(len(self.weights_tooutput[i])):\n",
    "                \n",
    "                #DOTUA USED HERE:\n",
    "                d = rad.partial(error, self.weights_tooutput[i][j])\n",
    "                self.weights_tooutput[i][j] = self.weights_tooutput[i][j] - d * self.learning_rate\n",
    "\n",
    "        # To update weights from input layer to hidden layer\n",
    "        for i in range(len(self.weights_tohidden)):\n",
    "            for j in range(len(self.weights_tooutput[i])):\n",
    "                \n",
    "                #DOTUA USED HERE:\n",
    "                d = rad.partial(error, self.weights_tohidden[i][j])\n",
    "                self.weights_tohidden[i][j] = self.weights_tohidden[i][j] - d * self.learning_rate\n"
   ]
  },
  {
   "cell_type": "code",
   "execution_count": null,
   "metadata": {},
   "outputs": [],
   "source": []
  },
  {
   "cell_type": "markdown",
   "metadata": {},
   "source": [
    "# Slide 4: NN Output"
   ]
  },
  {
   "cell_type": "markdown",
   "metadata": {},
   "source": [
    "![](images/iris_pca.png) | ![](images/cm_nnexample.png)"
   ]
  },
  {
   "cell_type": "code",
   "execution_count": null,
   "metadata": {},
   "outputs": [],
   "source": []
  }
 ],
 "metadata": {
  "kernelspec": {
   "display_name": "Python 3",
   "language": "python",
   "name": "python3"
  },
  "language_info": {
   "codemirror_mode": {
    "name": "ipython",
    "version": 3
   },
   "file_extension": ".py",
   "mimetype": "text/x-python",
   "name": "python",
   "nbconvert_exporter": "python",
   "pygments_lexer": "ipython3",
   "version": "3.7.0"
  }
 },
 "nbformat": 4,
 "nbformat_minor": 2
}
